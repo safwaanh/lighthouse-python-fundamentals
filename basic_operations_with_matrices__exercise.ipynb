{
  "nbformat": 4,
  "nbformat_minor": 0,
  "metadata": {
    "kernelspec": {
      "display_name": "Python 3",
      "language": "python",
      "name": "python3"
    },
    "language_info": {
      "codemirror_mode": {
        "name": "ipython",
        "version": 3
      },
      "file_extension": ".py",
      "mimetype": "text/x-python",
      "name": "python",
      "nbconvert_exporter": "python",
      "pygments_lexer": "ipython3",
      "version": "3.7.6"
    },
    "toc": {
      "base_numbering": 1,
      "nav_menu": {},
      "number_sections": true,
      "sideBar": true,
      "skip_h1_title": false,
      "title_cell": "Table of Contents",
      "title_sidebar": "Contents",
      "toc_cell": false,
      "toc_position": {},
      "toc_section_display": true,
      "toc_window_display": true
    },
    "varInspector": {
      "cols": {
        "lenName": 16,
        "lenType": 16,
        "lenVar": 40
      },
      "kernels_config": {
        "python": {
          "delete_cmd_postfix": "",
          "delete_cmd_prefix": "del ",
          "library": "var_list.py",
          "varRefreshCmd": "print(var_dic_list())"
        },
        "r": {
          "delete_cmd_postfix": ") ",
          "delete_cmd_prefix": "rm(",
          "library": "var_list.r",
          "varRefreshCmd": "cat(var_dic_list()) "
        }
      },
      "types_to_exclude": [
        "module",
        "function",
        "builtin_function_or_method",
        "instance",
        "_Feature"
      ],
      "window_display": false
    },
    "colab": {
      "name": "basic_operations_with_matrices__exercise.ipynb",
      "provenance": [],
      "include_colab_link": true
    }
  },
  "cells": [
    {
      "cell_type": "markdown",
      "metadata": {
        "id": "view-in-github",
        "colab_type": "text"
      },
      "source": [
        "<a href=\"https://colab.research.google.com/github/safwaanh/lighthouse-python-fundamentals/blob/master/basic_operations_with_matrices__exercise.ipynb\" target=\"_parent\"><img src=\"https://colab.research.google.com/assets/colab-badge.svg\" alt=\"Open In Colab\"/></a>"
      ]
    },
    {
      "cell_type": "markdown",
      "metadata": {
        "ExecuteTime": {
          "end_time": "2020-01-30T08:49:56.471556Z",
          "start_time": "2020-01-30T08:49:56.467072Z"
        },
        "id": "hGRDwB4hxX46",
        "colab_type": "text"
      },
      "source": [
        "**TASK:** import numpy"
      ]
    },
    {
      "cell_type": "code",
      "metadata": {
        "id": "S93I-ZSKxX47",
        "colab_type": "code",
        "colab": {}
      },
      "source": [
        "import numpy as np"
      ],
      "execution_count": 0,
      "outputs": []
    },
    {
      "cell_type": "markdown",
      "metadata": {
        "ExecuteTime": {
          "end_time": "2020-01-30T08:49:56.803505Z",
          "start_time": "2020-01-30T08:49:56.790390Z"
        },
        "id": "j31jOXQlxX4-",
        "colab_type": "text"
      },
      "source": [
        "**TASK:** define vector 'x' with three coordinates"
      ]
    },
    {
      "cell_type": "code",
      "metadata": {
        "id": "bsk3RTqixX4_",
        "colab_type": "code",
        "outputId": "1d29801b-e85f-4fc9-a7cb-78b7f5ae6d20",
        "colab": {
          "base_uri": "https://localhost:8080/",
          "height": 34
        }
      },
      "source": [
        "x = np.array([1,2,3])\n",
        "x"
      ],
      "execution_count": 0,
      "outputs": [
        {
          "output_type": "execute_result",
          "data": {
            "text/plain": [
              "array([1, 2, 3])"
            ]
          },
          "metadata": {
            "tags": []
          },
          "execution_count": 2
        }
      ]
    },
    {
      "cell_type": "markdown",
      "metadata": {
        "ExecuteTime": {
          "end_time": "2020-01-30T08:49:57.155981Z",
          "start_time": "2020-01-30T08:49:57.142948Z"
        },
        "id": "zsAoxbdsxX5C",
        "colab_type": "text"
      },
      "source": [
        "**TASK:** define (2 x 2) matrix 'A' \n"
      ]
    },
    {
      "cell_type": "code",
      "metadata": {
        "id": "CqBmhZn6xX5C",
        "colab_type": "code",
        "outputId": "a4cfc3cc-88a7-43b0-bf7e-de831618cd57",
        "colab": {
          "base_uri": "https://localhost:8080/",
          "height": 50
        }
      },
      "source": [
        "A = np.array([[1,2],[3,4]])\n",
        "A"
      ],
      "execution_count": 0,
      "outputs": [
        {
          "output_type": "execute_result",
          "data": {
            "text/plain": [
              "array([[1, 2],\n",
              "       [3, 4]])"
            ]
          },
          "metadata": {
            "tags": []
          },
          "execution_count": 4
        }
      ]
    },
    {
      "cell_type": "markdown",
      "metadata": {
        "ExecuteTime": {
          "end_time": "2020-01-30T08:49:57.628250Z",
          "start_time": "2020-01-30T08:49:57.618326Z"
        },
        "id": "-b-9dJ1HxX5F",
        "colab_type": "text"
      },
      "source": [
        "**TASK:** define (2 x 2) matrix 'B'"
      ]
    },
    {
      "cell_type": "code",
      "metadata": {
        "id": "4P56AGToxX5G",
        "colab_type": "code",
        "outputId": "2955bc53-7c72-4b08-ba57-fe6b77425452",
        "colab": {
          "base_uri": "https://localhost:8080/",
          "height": 50
        }
      },
      "source": [
        "B = np.array([[5,6],[7,8]])\n",
        "B"
      ],
      "execution_count": 0,
      "outputs": [
        {
          "output_type": "execute_result",
          "data": {
            "text/plain": [
              "array([[5, 6],\n",
              "       [7, 8]])"
            ]
          },
          "metadata": {
            "tags": []
          },
          "execution_count": 5
        }
      ]
    },
    {
      "cell_type": "markdown",
      "metadata": {
        "ExecuteTime": {
          "end_time": "2020-01-30T08:49:57.644266Z",
          "start_time": "2020-01-30T08:49:57.633733Z"
        },
        "id": "L1o597NDxX5J",
        "colab_type": "text"
      },
      "source": [
        "**TASK:** check the type of 'x'"
      ]
    },
    {
      "cell_type": "code",
      "metadata": {
        "id": "MCL-_D-DxX5K",
        "colab_type": "code",
        "outputId": "f2dff9a1-501d-45c5-f18a-71d8cca36448",
        "colab": {
          "base_uri": "https://localhost:8080/",
          "height": 34
        }
      },
      "source": [
        "type(x)"
      ],
      "execution_count": 0,
      "outputs": [
        {
          "output_type": "execute_result",
          "data": {
            "text/plain": [
              "numpy.ndarray"
            ]
          },
          "metadata": {
            "tags": []
          },
          "execution_count": 6
        }
      ]
    },
    {
      "cell_type": "markdown",
      "metadata": {
        "ExecuteTime": {
          "end_time": "2020-01-30T08:49:58.239708Z",
          "start_time": "2020-01-30T08:49:58.231962Z"
        },
        "id": "-W58XpXqxX5M",
        "colab_type": "text"
      },
      "source": [
        "**TASK:** check the type of 'A'"
      ]
    },
    {
      "cell_type": "code",
      "metadata": {
        "id": "49cyuiHcxX5N",
        "colab_type": "code",
        "outputId": "60aea2d2-0ac4-4429-ca50-afa4c9a5699a",
        "colab": {
          "base_uri": "https://localhost:8080/",
          "height": 34
        }
      },
      "source": [
        "type(A)"
      ],
      "execution_count": 0,
      "outputs": [
        {
          "output_type": "execute_result",
          "data": {
            "text/plain": [
              "numpy.ndarray"
            ]
          },
          "metadata": {
            "tags": []
          },
          "execution_count": 7
        }
      ]
    },
    {
      "cell_type": "markdown",
      "metadata": {
        "ExecuteTime": {
          "end_time": "2020-01-30T08:49:58.780503Z",
          "start_time": "2020-01-30T08:49:58.771843Z"
        },
        "id": "fOZUyWUPxX5Q",
        "colab_type": "text"
      },
      "source": [
        "**TASK:**  check the shape of 'x'\n"
      ]
    },
    {
      "cell_type": "code",
      "metadata": {
        "id": "Ar7eSHSDxX5Q",
        "colab_type": "code",
        "outputId": "e1fe479d-3e90-4a4e-c149-bc2e8b69ff5c",
        "colab": {
          "base_uri": "https://localhost:8080/",
          "height": 34
        }
      },
      "source": [
        "x.shape"
      ],
      "execution_count": 0,
      "outputs": [
        {
          "output_type": "execute_result",
          "data": {
            "text/plain": [
              "(3,)"
            ]
          },
          "metadata": {
            "tags": []
          },
          "execution_count": 9
        }
      ]
    },
    {
      "cell_type": "markdown",
      "metadata": {
        "ExecuteTime": {
          "end_time": "2020-01-30T08:49:59.209544Z",
          "start_time": "2020-01-30T08:49:59.197955Z"
        },
        "id": "b65FEWxLxX5T",
        "colab_type": "text"
      },
      "source": [
        "**TASK:** check the type of 'A'"
      ]
    },
    {
      "cell_type": "code",
      "metadata": {
        "id": "mvyy7Ih6xX5T",
        "colab_type": "code",
        "outputId": "d2aca23b-7a4a-47eb-aa80-1c1536ffee77",
        "colab": {
          "base_uri": "https://localhost:8080/",
          "height": 34
        }
      },
      "source": [
        "A.shape"
      ],
      "execution_count": 0,
      "outputs": [
        {
          "output_type": "execute_result",
          "data": {
            "text/plain": [
              "(2, 2)"
            ]
          },
          "metadata": {
            "tags": []
          },
          "execution_count": 10
        }
      ]
    },
    {
      "cell_type": "markdown",
      "metadata": {
        "id": "dKPhmP4dxX5V",
        "colab_type": "text"
      },
      "source": [
        "**TASK:** "
      ]
    },
    {
      "cell_type": "code",
      "metadata": {
        "ExecuteTime": {
          "end_time": "2020-01-30T08:49:59.477768Z",
          "start_time": "2020-01-30T08:49:59.472858Z"
        },
        "id": "l_uO-a7XxX5V",
        "colab_type": "code",
        "colab": {}
      },
      "source": [
        "\"\"\"\n",
        "Define function 'have_same_shape' which checks if two arrays have same shape.\n",
        "\n",
        "PARAMS:\n",
        "    array_1 (numpy.ndarray) - first array\n",
        "    array_2 (numpy.ndarray) - second array\n",
        "RETURN:\n",
        "    True - if arrays have same shape\n",
        "    False - if arrays do not have same shape\n",
        "\n",
        "Also print 'Arrays must have same shape!' when returning False\n",
        "\"\"\""
      ],
      "execution_count": 0,
      "outputs": []
    },
    {
      "cell_type": "code",
      "metadata": {
        "id": "2BUJnKwaxX5X",
        "colab_type": "code",
        "colab": {}
      },
      "source": [
        "def have_same_shape(array_1, array_2):\n",
        "  condition = False\n",
        "\n",
        "  if array_1.shape == array_2.shape:\n",
        "    condition = True\n",
        "\n",
        "  if condition == False:\n",
        "    print(\"Arrays must have the same shape!\")\n",
        "\n",
        "  return condition"
      ],
      "execution_count": 0,
      "outputs": []
    },
    {
      "cell_type": "markdown",
      "metadata": {
        "ExecuteTime": {
          "end_time": "2020-01-30T08:49:59.773624Z",
          "start_time": "2020-01-30T08:49:59.764633Z"
        },
        "id": "NYGpWLI8xX5Z",
        "colab_type": "text"
      },
      "source": [
        "**TASK:** call the function 'have_same_shape' with matrix 'A' and vector 'x' as inputs"
      ]
    },
    {
      "cell_type": "code",
      "metadata": {
        "id": "yHp8TmRpxX5Z",
        "colab_type": "code",
        "outputId": "ab9e43ff-fa5c-4052-c869-dbd0c2d12300",
        "colab": {
          "base_uri": "https://localhost:8080/",
          "height": 50
        }
      },
      "source": [
        "have_same_shape(A,x)"
      ],
      "execution_count": 0,
      "outputs": [
        {
          "output_type": "stream",
          "text": [
            "Arrays must have the same shape!\n"
          ],
          "name": "stdout"
        },
        {
          "output_type": "execute_result",
          "data": {
            "text/plain": [
              "False"
            ]
          },
          "metadata": {
            "tags": []
          },
          "execution_count": 13
        }
      ]
    },
    {
      "cell_type": "markdown",
      "metadata": {
        "ExecuteTime": {
          "end_time": "2020-01-30T08:50:00.108597Z",
          "start_time": "2020-01-30T08:50:00.099924Z"
        },
        "id": "bR10dJ_GxX5b",
        "colab_type": "text"
      },
      "source": [
        "**TASK:**  call the function 'have_same_shape' with matrix 'A' and matrix 'B' as inputs"
      ]
    },
    {
      "cell_type": "code",
      "metadata": {
        "id": "oYgu58dKxX5c",
        "colab_type": "code",
        "outputId": "a45d028e-0e35-4a8c-d3f7-00e690efdf7b",
        "colab": {
          "base_uri": "https://localhost:8080/",
          "height": 34
        }
      },
      "source": [
        "have_same_shape(A,B)"
      ],
      "execution_count": 0,
      "outputs": [
        {
          "output_type": "execute_result",
          "data": {
            "text/plain": [
              "True"
            ]
          },
          "metadata": {
            "tags": []
          },
          "execution_count": 14
        }
      ]
    },
    {
      "cell_type": "markdown",
      "metadata": {
        "id": "-JKnJ8znxX5e",
        "colab_type": "text"
      },
      "source": [
        "**TASK:** "
      ]
    },
    {
      "cell_type": "code",
      "metadata": {
        "ExecuteTime": {
          "end_time": "2020-01-30T08:50:00.453186Z",
          "start_time": "2020-01-30T08:50:00.445491Z"
        },
        "id": "SRHROmUSxX5e",
        "colab_type": "code",
        "colab": {}
      },
      "source": [
        "\"\"\"\n",
        "Define function 'matrix_addition' which perform matrix addition value by value.\n",
        "\n",
        "PARAMS:\n",
        "    A (numpy.ndarray) - first array\n",
        "    B (numpy.ndarray) - second array\n",
        "RETURN:\n",
        "    C (numpy.ndarray) - new A+B array\n",
        "\n",
        "In this task do not consider broadcasting.\n",
        "Do not forget to check arrays shapes (you can use 'have_same_shape' function defined before)\n",
        "\n",
        "\"\"\"\n"
      ],
      "execution_count": 0,
      "outputs": []
    },
    {
      "cell_type": "code",
      "metadata": {
        "id": "_nXv-RDVxX5g",
        "colab_type": "code",
        "colab": {}
      },
      "source": [
        "def matrix_addition(A,B):\n",
        "  if have_same_shape(A,B) == True:\n",
        "    C = A + B\n",
        "\n",
        "  return C"
      ],
      "execution_count": 0,
      "outputs": []
    },
    {
      "cell_type": "markdown",
      "metadata": {
        "ExecuteTime": {
          "end_time": "2020-01-30T08:50:00.926629Z",
          "start_time": "2020-01-30T08:50:00.914790Z"
        },
        "id": "-6oVdJcvxX5i",
        "colab_type": "text"
      },
      "source": [
        "**TASK:** call the function 'matrix_addition' with matrix 'A' and matrix 'B' as inputs"
      ]
    },
    {
      "cell_type": "code",
      "metadata": {
        "id": "BrCdWYHQxX5i",
        "colab_type": "code",
        "outputId": "65260e06-505a-41c7-b289-dfa3a63e497e",
        "colab": {
          "base_uri": "https://localhost:8080/",
          "height": 50
        }
      },
      "source": [
        "matrix_addition(A,B)"
      ],
      "execution_count": 0,
      "outputs": [
        {
          "output_type": "execute_result",
          "data": {
            "text/plain": [
              "array([[ 6,  8],\n",
              "       [10, 12]])"
            ]
          },
          "metadata": {
            "tags": []
          },
          "execution_count": 57
        }
      ]
    },
    {
      "cell_type": "markdown",
      "metadata": {
        "id": "w3YJQOq1xX5m",
        "colab_type": "text"
      },
      "source": [
        "**TASK:** "
      ]
    },
    {
      "cell_type": "code",
      "metadata": {
        "ExecuteTime": {
          "end_time": "2020-01-30T08:50:01.238605Z",
          "start_time": "2020-01-30T08:50:01.231201Z"
        },
        "collapsed": true,
        "jupyter": {
          "outputs_hidden": true
        },
        "id": "3gDftxMTxX5m",
        "colab_type": "code",
        "outputId": "13064dca-221b-4920-9b05-77391ab200f8",
        "colab": {}
      },
      "source": [
        "\"\"\"\n",
        "Define 'multiple_matrix_adition' function that takes list of arrays as the input and perform array addition\n",
        "\n",
        "PARAMS:\n",
        "   lst_of_arr (list) - list of numpy.ndarrays\n",
        "RETURN:\n",
        "    NEW_ARRAY (numpy.ndarray) - new array\n",
        "\n",
        "Use 'matrix_addition' function defined before.\n",
        "\"\"\""
      ],
      "execution_count": 0,
      "outputs": [
        {
          "output_type": "execute_result",
          "data": {
            "text/plain": [
              "\"\\nDefine 'multiple_matrix_adition' function that takes list of arrays as the input and perform array addition\\n\\nPARAMS:\\n   lst_of_arr (list) - list of numpy.ndarrays\\nRETURN:\\n    NEW_ARRAY (numpy.ndarray) - new array\\n\\nUse 'matrix_addition' function defined before.\\n\""
            ]
          },
          "metadata": {
            "tags": []
          },
          "execution_count": 1
        }
      ]
    },
    {
      "cell_type": "code",
      "metadata": {
        "id": "5YBATtevxX5p",
        "colab_type": "code",
        "colab": {}
      },
      "source": [
        "def multiple_matrix_addition(lst_of_arr):\n",
        "  shape_matrix = lst_of_arr[0].shape\n",
        "  D = np.zeros(shape_matrix)\n",
        "  \n",
        "  for i in range(len((lst_of_arr))-1):\n",
        "    D += matrix_addition(lst_of_arr[i], lst_of_arr[i+1])\n",
        "\n",
        "  return D\n",
        "\n"
      ],
      "execution_count": 0,
      "outputs": []
    },
    {
      "cell_type": "markdown",
      "metadata": {
        "ExecuteTime": {
          "end_time": "2020-01-30T08:50:01.515057Z",
          "start_time": "2020-01-30T08:50:01.506002Z"
        },
        "id": "HYbk_B2PxX5r",
        "colab_type": "text"
      },
      "source": [
        "**TASK:** call the function 'multiple_matrix_addition' with matrix [A,A,B,B,B] as input\n"
      ]
    },
    {
      "cell_type": "code",
      "metadata": {
        "id": "GxJ5mNeJxX5s",
        "colab_type": "code",
        "outputId": "ca729774-c428-4a52-fe18-f1583381ab4f",
        "colab": {
          "base_uri": "https://localhost:8080/",
          "height": 50
        }
      },
      "source": [
        "arr_list = [A,A,B,B,B]\n",
        "multiple_matrix_addition(arr_list)"
      ],
      "execution_count": 0,
      "outputs": [
        {
          "output_type": "execute_result",
          "data": {
            "text/plain": [
              "array([[28., 36.],\n",
              "       [44., 52.]])"
            ]
          },
          "metadata": {
            "tags": []
          },
          "execution_count": 60
        }
      ]
    },
    {
      "cell_type": "markdown",
      "metadata": {
        "id": "HIUx3LHjxX5t",
        "colab_type": "text"
      },
      "source": [
        "**TASK:** "
      ]
    },
    {
      "cell_type": "code",
      "metadata": {
        "ExecuteTime": {
          "end_time": "2020-01-30T08:50:01.934418Z",
          "start_time": "2020-01-30T08:50:01.921444Z"
        },
        "id": "OUbTaKxIxX5u",
        "colab_type": "code",
        "colab": {}
      },
      "source": [
        "\"\"\"\n",
        "Define function 'can_multiply' that checks if two arrays (matrices) can be multiplied\n",
        "\n",
        "PARAMS:\n",
        "   array_a (numpy.ndarray) - first array\n",
        "   array_b (numpy.ndarray) - second array\n",
        "RETURN:\n",
        "    True - if arrays can be multiplied, also print the shape of the new array\n",
        "    False - if arrays can not be multiplied, also print 'Matrices can not be multiplied.'\n",
        "    \n",
        "\"\"\""
      ],
      "execution_count": 0,
      "outputs": []
    },
    {
      "cell_type": "code",
      "metadata": {
        "id": "Nu6rLIWcxX5v",
        "colab_type": "code",
        "outputId": "a17976dd-05b9-4c7e-dc09-f080cb5b301a",
        "colab": {
          "base_uri": "https://localhost:8080/",
          "height": 34
        }
      },
      "source": [
        "shape_A = A.shape\n",
        "type(shape_A)\n",
        "\n",
        "shape_A[1] "
      ],
      "execution_count": 0,
      "outputs": [
        {
          "output_type": "execute_result",
          "data": {
            "text/plain": [
              "2"
            ]
          },
          "metadata": {
            "tags": []
          },
          "execution_count": 64
        }
      ]
    },
    {
      "cell_type": "code",
      "metadata": {
        "id": "j2GE7Hlc28Jw",
        "colab_type": "code",
        "colab": {}
      },
      "source": [
        "def can_multiply(array_a, array_b):\n",
        "  shape_A = array_a.shape\n",
        "  shape_B = array_b.shape\n",
        "  condition = False\n",
        "\n",
        "  if shape_A[1] == shape_B[0]:\n",
        "    condition = True\n",
        "    C = array_a.dot(array_b)\n",
        "    print(C.shape)\n",
        "\n",
        "  else:\n",
        "    print(\"Matrices cannot be multiplied\")\n",
        "\n",
        "  return condition"
      ],
      "execution_count": 0,
      "outputs": []
    },
    {
      "cell_type": "markdown",
      "metadata": {
        "ExecuteTime": {
          "end_time": "2020-01-30T08:50:02.291084Z",
          "start_time": "2020-01-30T08:50:02.280835Z"
        },
        "id": "JW639k1fxX5x",
        "colab_type": "text"
      },
      "source": [
        "**TASK:** call the function 'can_multiply' with matrix 'A' and 'B' as inputs"
      ]
    },
    {
      "cell_type": "code",
      "metadata": {
        "id": "fPB6yOMpxX5x",
        "colab_type": "code",
        "outputId": "6996a49a-b787-4fec-9258-259e380fae86",
        "colab": {
          "base_uri": "https://localhost:8080/",
          "height": 50
        }
      },
      "source": [
        "can_multiply(A,B)"
      ],
      "execution_count": 0,
      "outputs": [
        {
          "output_type": "stream",
          "text": [
            "(2, 2)\n"
          ],
          "name": "stdout"
        },
        {
          "output_type": "execute_result",
          "data": {
            "text/plain": [
              "True"
            ]
          },
          "metadata": {
            "tags": []
          },
          "execution_count": 70
        }
      ]
    },
    {
      "cell_type": "markdown",
      "metadata": {
        "ExecuteTime": {
          "end_time": "2020-01-30T08:50:02.590166Z",
          "start_time": "2020-01-30T08:50:02.583812Z"
        },
        "id": "tzgsAqKAxX50",
        "colab_type": "text"
      },
      "source": [
        "**TASK:**  define matrix (3 x 2) matrix C"
      ]
    },
    {
      "cell_type": "code",
      "metadata": {
        "id": "kLQYnb3jxX50",
        "colab_type": "code",
        "colab": {}
      },
      "source": [
        "C = np.array([[1,2],[3,4],[5,6]])"
      ],
      "execution_count": 0,
      "outputs": []
    },
    {
      "cell_type": "markdown",
      "metadata": {
        "ExecuteTime": {
          "end_time": "2020-01-30T08:50:02.853507Z",
          "start_time": "2020-01-30T08:50:02.841481Z"
        },
        "id": "HF_q4kRexX53",
        "colab_type": "text"
      },
      "source": [
        "**TASK:**  call the function 'can_multiply' with matrix 'A' and 'C' as inputs"
      ]
    },
    {
      "cell_type": "code",
      "metadata": {
        "id": "3aTCUB4TxX53",
        "colab_type": "code",
        "outputId": "15d31b1c-bb92-4f1b-a60a-c5d938ee1d49",
        "colab": {
          "base_uri": "https://localhost:8080/",
          "height": 50
        }
      },
      "source": [
        "can_multiply(A,C)"
      ],
      "execution_count": 0,
      "outputs": [
        {
          "output_type": "stream",
          "text": [
            "Matrices cannot be multiplied\n"
          ],
          "name": "stdout"
        },
        {
          "output_type": "execute_result",
          "data": {
            "text/plain": [
              "False"
            ]
          },
          "metadata": {
            "tags": []
          },
          "execution_count": 76
        }
      ]
    },
    {
      "cell_type": "markdown",
      "metadata": {
        "ExecuteTime": {
          "end_time": "2020-01-30T08:50:03.194987Z",
          "start_time": "2020-01-30T08:50:03.188313Z"
        },
        "id": "5OzifUsKxX55",
        "colab_type": "text"
      },
      "source": [
        "**TASK:**  call the function 'can_multiply' with matrix 'C' and 'A' as inputs (now C,A not A,C). Do you know why is the result different?"
      ]
    },
    {
      "cell_type": "code",
      "metadata": {
        "id": "XTCuDaUXxX56",
        "colab_type": "code",
        "outputId": "d940a539-c3b3-45dd-f6d5-01597f432178",
        "colab": {
          "base_uri": "https://localhost:8080/",
          "height": 50
        }
      },
      "source": [
        "can_multiply(C,A)"
      ],
      "execution_count": 0,
      "outputs": [
        {
          "output_type": "stream",
          "text": [
            "(3, 2)\n"
          ],
          "name": "stdout"
        },
        {
          "output_type": "execute_result",
          "data": {
            "text/plain": [
              "True"
            ]
          },
          "metadata": {
            "tags": []
          },
          "execution_count": 77
        }
      ]
    },
    {
      "cell_type": "markdown",
      "metadata": {
        "id": "JobJKw9JxX58",
        "colab_type": "text"
      },
      "source": [
        "**TASK:** "
      ]
    },
    {
      "cell_type": "code",
      "metadata": {
        "ExecuteTime": {
          "end_time": "2020-01-30T08:50:03.460761Z",
          "start_time": "2020-01-30T08:50:03.453042Z"
        },
        "id": "ao1OSBWFxX58",
        "colab_type": "code",
        "colab": {}
      },
      "source": [
        "\"\"\"\n",
        "Define function 'matrix_multiplication' that multiply two numpy.ndarrays\n",
        "\n",
        "PARAMS:\n",
        "   array_a (numpy.ndarray) - first array\n",
        "   array_b (numpy.ndarray) - second array\n",
        "RETURN:\n",
        "    NEW_ARRAY (numpy.ndarray) - new A * B array\n",
        "    \n",
        "Do not forget to check if two matrices can be multiplied.\n",
        "\n",
        "\"\"\""
      ],
      "execution_count": 0,
      "outputs": []
    },
    {
      "cell_type": "code",
      "metadata": {
        "id": "Ks4yiQnhxX59",
        "colab_type": "code",
        "colab": {}
      },
      "source": [
        "def matrix_multiplication(array_a, array_b):\n",
        "  if can_multiply(array_a, array_b) == True:\n",
        "    NEW_ARRAY = array_a.dot(array_b)\n",
        "  else:\n",
        "    return None\n",
        "\n",
        "  return NEW_ARRAY"
      ],
      "execution_count": 0,
      "outputs": []
    },
    {
      "cell_type": "markdown",
      "metadata": {
        "ExecuteTime": {
          "end_time": "2020-01-30T08:50:03.899011Z",
          "start_time": "2020-01-30T08:50:03.886562Z"
        },
        "id": "N8333v4DxX5_",
        "colab_type": "text"
      },
      "source": [
        "**TASK:**  call the function 'matrix_multiplication' with matrix 'C' and 'B' \n"
      ]
    },
    {
      "cell_type": "code",
      "metadata": {
        "id": "MXHznnWKxX6A",
        "colab_type": "code",
        "outputId": "23404f44-2ee5-4638-a6e1-ab42872a9c0b",
        "colab": {
          "base_uri": "https://localhost:8080/",
          "height": 84
        }
      },
      "source": [
        "matrix_multiplication(C,B)"
      ],
      "execution_count": 0,
      "outputs": [
        {
          "output_type": "stream",
          "text": [
            "(3, 2)\n"
          ],
          "name": "stdout"
        },
        {
          "output_type": "execute_result",
          "data": {
            "text/plain": [
              "array([[19, 22],\n",
              "       [43, 50],\n",
              "       [67, 78]])"
            ]
          },
          "metadata": {
            "tags": []
          },
          "execution_count": 106
        }
      ]
    },
    {
      "cell_type": "markdown",
      "metadata": {
        "ExecuteTime": {
          "end_time": "2020-01-30T08:50:04.265728Z",
          "start_time": "2020-01-30T08:50:04.258942Z"
        },
        "id": "0NUEe0iDxX6C",
        "colab_type": "text"
      },
      "source": [
        "**TASK:** call the function 'matrix_multiplication' with matrix 'A' and 'C' "
      ]
    },
    {
      "cell_type": "code",
      "metadata": {
        "id": "e6GMRePAxX6C",
        "colab_type": "code",
        "outputId": "c291fb75-6e4b-46b5-a639-e6bc9bfb6c0b",
        "colab": {
          "base_uri": "https://localhost:8080/",
          "height": 34
        }
      },
      "source": [
        "matrix_multiplication(A, C)"
      ],
      "execution_count": 0,
      "outputs": [
        {
          "output_type": "stream",
          "text": [
            "Matrices cannot be multiplied\n"
          ],
          "name": "stdout"
        }
      ]
    },
    {
      "cell_type": "code",
      "metadata": {
        "id": "Iqz-dArOxX6E",
        "colab_type": "code",
        "colab": {}
      },
      "source": [
        ""
      ],
      "execution_count": 0,
      "outputs": []
    },
    {
      "cell_type": "code",
      "metadata": {
        "id": "o6mjI0RRxX6F",
        "colab_type": "code",
        "colab": {}
      },
      "source": [
        ""
      ],
      "execution_count": 0,
      "outputs": []
    }
  ]
}