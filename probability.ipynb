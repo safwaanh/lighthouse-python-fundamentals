{
  "nbformat": 4,
  "nbformat_minor": 0,
  "metadata": {
    "colab": {
      "name": "probability.ipynb",
      "provenance": [],
      "collapsed_sections": [],
      "authorship_tag": "ABX9TyORMDb50DpTQ+5dZRRg34XB",
      "include_colab_link": true
    },
    "kernelspec": {
      "name": "python3",
      "display_name": "Python 3"
    }
  },
  "cells": [
    {
      "cell_type": "markdown",
      "metadata": {
        "id": "view-in-github",
        "colab_type": "text"
      },
      "source": [
        "<a href=\"https://colab.research.google.com/github/safwaanh/lighthouse-python-fundamentals/blob/master/probability.ipynb\" target=\"_parent\"><img src=\"https://colab.research.google.com/assets/colab-badge.svg\" alt=\"Open In Colab\"/></a>"
      ]
    },
    {
      "cell_type": "code",
      "metadata": {
        "id": "3QZ3pou9Tbh2",
        "colab_type": "code",
        "colab": {}
      },
      "source": [
        "import numpy as np\n",
        "import matplotlib.pyplot as plt\n",
        "\n",
        "plt.style.use('dark_background')\n",
        "from collections import Counter"
      ],
      "execution_count": 0,
      "outputs": []
    },
    {
      "cell_type": "code",
      "metadata": {
        "id": "r2-DS5a8TryN",
        "colab_type": "code",
        "colab": {}
      },
      "source": [
        "## Programming a binomial distribution\n",
        "\n",
        "# n = number of coin tosses\n",
        "# p = probability of getting heads\n",
        "# size = number of repeats\n",
        "\n",
        "n = 10\n",
        "p = 0.5\n",
        "size = 1000\n",
        "\n",
        "samples = np.random.binomial(n, p, size)"
      ],
      "execution_count": 0,
      "outputs": []
    },
    {
      "cell_type": "code",
      "metadata": {
        "id": "RlK85qioT7DW",
        "colab_type": "code",
        "outputId": "ca9b2069-d375-46a5-9f2e-c3dbdcc3cf96",
        "colab": {
          "base_uri": "https://localhost:8080/",
          "height": 34
        }
      },
      "source": [
        "type(samples) ## interesting"
      ],
      "execution_count": 0,
      "outputs": [
        {
          "output_type": "execute_result",
          "data": {
            "text/plain": [
              "numpy.ndarray"
            ]
          },
          "metadata": {
            "tags": []
          },
          "execution_count": 3
        }
      ]
    },
    {
      "cell_type": "code",
      "metadata": {
        "id": "q3KFf18NT9Yj",
        "colab_type": "code",
        "outputId": "23484807-8853-41c9-b53a-be08a1bdd10f",
        "colab": {
          "base_uri": "https://localhost:8080/",
          "height": 34
        }
      },
      "source": [
        "samples.shape"
      ],
      "execution_count": 0,
      "outputs": [
        {
          "output_type": "execute_result",
          "data": {
            "text/plain": [
              "(1000,)"
            ]
          },
          "metadata": {
            "tags": []
          },
          "execution_count": 4
        }
      ]
    },
    {
      "cell_type": "code",
      "metadata": {
        "id": "8pr-4VXNUA7W",
        "colab_type": "code",
        "outputId": "6c34aba1-ee6f-4421-d99a-bf8e7fa76d2a",
        "colab": {
          "base_uri": "https://localhost:8080/",
          "height": 722
        }
      },
      "source": [
        "print(samples) ## Each entry is how many times out of (n) we get heads (p)"
      ],
      "execution_count": 0,
      "outputs": [
        {
          "output_type": "stream",
          "text": [
            "[ 5  6  7  5  5  4  3  8  6  6  5  6  6  3  9  6  1  6  6  3  4  8  2  5\n",
            "  2  5  6  5  6  5  4  7  9  4  3  5  6  7  6  4  3  8  3  4  6  6  6  7\n",
            "  3  3  3  3  4  6  6  5  5  6  7  7  4  8  5  5  5  5  5  5  7  7  5  4\n",
            "  3  3  3  5  5  5  4  7  3  4  4  4  7  5  4  4  4  2  5  6  7  5  6  5\n",
            "  4  7  6  5  2  6  5  6  7  7  6  6  5  5  6  5  5  3  7  3  3  5  3  4\n",
            "  6  4  4  5  5  7  6  4  2  4  9  4  5  5  5  3  6  3  7  6  5  3  3  4\n",
            "  3  6  6  6  4  7  5  6  6  7  8  6  4  5  3  6  6  5  3  4  5  5  5  4\n",
            "  6  3  5  5  4  4  2  7  8  5  3  4  5  4  6  2  4  4  6  6  6  3  6  4\n",
            "  5  5  5  7  5  3  3  5  6  7  5  3  8  4  7  5  5  7  8  5  6  3  5  4\n",
            "  7  6  4  6  7  5  5  7  6  3  3  4  3  6  5  4  4  3  7  2  2  7  3  4\n",
            "  4  7  4  7  5  7  2  5  6  4  7  6  6  3  6  5  6  6  3  4  7  5  7  6\n",
            "  9  5  8  6  6  5  7  7  5  3  5  7  5  5  5  3  3  6  5  4  3  7  6  7\n",
            "  6  5  4  7  5  5  6  6  6  4  5  7  6  4  3  5  6  4  6  4  6  2  5  3\n",
            "  6  5  7  6  5  9  6  5  4  4  6  8  5  4  6  3  6  6  3  5  4  2  5  4\n",
            "  9  4  6  5  6  5  4  5  4  5  7  6  6  8  6  4  6  6  6  5  6  7  6  4\n",
            "  4  5  5  7  6  3  4  4  5  4  6  4  8  4  6  4  5  3  5  5  7  7  5  6\n",
            "  5  3  5  5  4  3  5  7  3  5  1  5  4  4  4  6  8  4  3  5  4  6  7  7\n",
            "  4  6  7  4  6  7  5  5  2  3  6  4  3  6  4  5  4  2  8  4  5  3  6  5\n",
            "  2  5  5  5  6  6  7  4  5  5  3  3  0  5  5  4  5  6  9  3  3  4  6  5\n",
            "  6  6  5  4  6  6  3  7  6  3  6  3  8  6  6  4  3  5  6  3  5  4  6  4\n",
            "  6  5  5  4  7  6  5  5  4  5  3  7  5  4  7  7  3  5  5  4  6  9  4  4\n",
            "  3  5  4  2  6  4  4  6  4  7  5  4  4  3  6  6  3  4  7  5  8  5  6  7\n",
            "  2  6  6  3  7  6  3  6  5  5  7  6  3  5  6  6  4  4  4  5  8  4  5  4\n",
            "  3  1  5  4  6  5  4  4  4  5  2  5  6  4  8  5  7  6  3  5  8  5  5  6\n",
            "  4  7  8  3  6  4  7  6  6  6  7  6  8  6  6  4  4  4  4  3  7  5  5  5\n",
            "  5  5  4  4  5  4  5  5  7  4  7  5  2  4  2  8  6  2  5  4  6  7  5  7\n",
            "  5  6  5  4  6  6  7  4  5  5  3  5  6  2  5  3  7  4  6  5  7  5  5  4\n",
            "  7  3  3  4  5  6  4  5  6  5  2  5  4  3  6  6  6  6  3  4  4  6  5  4\n",
            "  5  6  6  9  7  3  7  5  5  6  5  7  5  4  6  6  4  6  7  5  3  4  7  3\n",
            "  2  6  5  1  5  6  6  6  2  6  5  2  3  8  7  6  7  2  3  6  3  8  5  3\n",
            "  6  4  6  4  5  5  3  4  3  4  7  2  6  2  6  5  6  4  5  4  3  5  7  5\n",
            "  4  8  5  3  6  4  5  7  5  6  6  4  2  3  7  4  7  6  3  5  7  5  5  2\n",
            "  5  6  7  6  1  5  6  4  5  3  4  6  5  5  6  4  6  3  7  7  6  4  6  5\n",
            "  7  5  5  6  4  3  2  7  4  6  6  2  4  7  6  5  6  7  1  6  6  5  5  5\n",
            "  5  4  5  7  4  4  4  7  6  4  5  4  6  4  5  5  5  3  5  5  5  6  4  3\n",
            "  3  5  7  5  3  3  5  5  7  5  6  6  6  4  6  3  6  7  1  4  5  5  6  7\n",
            "  6  6  6  6  3  5  5  7  6  3  4  6  3  4  6  7  7  5  2  2  6  3  6  4\n",
            "  5  4  5  7  6  7  5  2  4  5  4  6  3  1  4  6  4  7  6  7  6  5  4  7\n",
            "  5  6  4  3  3  6  4  4  4  6  6  7  6  8  6  7  5  7  2  4  5  3  5 10\n",
            "  4  4  4  1  8  4  4  6  6  3  4  5  9  5  5  5  4  5  6  6  3  4  7  4\n",
            "  5  8  2  5  5  4  7  5  7 10  7  5  5  6  7  6  5  4  7  4  3  2  4  5\n",
            "  5  5  5  4  7  4  5  3  3  3  4  4  5  4  7  4]\n"
          ],
          "name": "stdout"
        }
      ]
    },
    {
      "cell_type": "code",
      "metadata": {
        "id": "U7A9a1K9UDv5",
        "colab_type": "code",
        "colab": {}
      },
      "source": [
        "# counts occurence of each number\n",
        "heads_occu_count = Counter(samples)"
      ],
      "execution_count": 0,
      "outputs": []
    },
    {
      "cell_type": "code",
      "metadata": {
        "id": "ZtUKTRoDU2AD",
        "colab_type": "code",
        "colab": {}
      },
      "source": [
        "## Calculate the relative probability of each occurence\n",
        "head_probs = [val/size for val in heads_occu_count.values()]"
      ],
      "execution_count": 0,
      "outputs": []
    },
    {
      "cell_type": "code",
      "metadata": {
        "id": "4kaQFI7xU-30",
        "colab_type": "code",
        "outputId": "983ea199-1f02-4a8f-f6c6-204786957df3",
        "colab": {
          "base_uri": "https://localhost:8080/",
          "height": 202
        }
      },
      "source": [
        "heads_occu_count"
      ],
      "execution_count": 0,
      "outputs": [
        {
          "output_type": "execute_result",
          "data": {
            "text/plain": [
              "Counter({0: 1,\n",
              "         1: 9,\n",
              "         2: 39,\n",
              "         3: 119,\n",
              "         4: 196,\n",
              "         5: 251,\n",
              "         6: 223,\n",
              "         7: 122,\n",
              "         8: 28,\n",
              "         9: 10,\n",
              "         10: 2})"
            ]
          },
          "metadata": {
            "tags": []
          },
          "execution_count": 8
        }
      ]
    },
    {
      "cell_type": "code",
      "metadata": {
        "id": "qgnuMUIFVFad",
        "colab_type": "code",
        "outputId": "7557fed5-dd70-4969-9adf-1c3e3d97a3d6",
        "colab": {
          "base_uri": "https://localhost:8080/",
          "height": 34
        }
      },
      "source": [
        "type(head_probs)"
      ],
      "execution_count": 0,
      "outputs": [
        {
          "output_type": "execute_result",
          "data": {
            "text/plain": [
              "list"
            ]
          },
          "metadata": {
            "tags": []
          },
          "execution_count": 9
        }
      ]
    },
    {
      "cell_type": "code",
      "metadata": {
        "id": "cTjMVPRDVN7r",
        "colab_type": "code",
        "outputId": "5009b455-1f17-46ad-85cc-f4282864ce6e",
        "colab": {
          "base_uri": "https://localhost:8080/",
          "height": 34
        }
      },
      "source": [
        "print(head_probs)"
      ],
      "execution_count": 0,
      "outputs": [
        {
          "output_type": "stream",
          "text": [
            "[0.251, 0.223, 0.122, 0.196, 0.119, 0.028, 0.01, 0.009, 0.039, 0.001, 0.002]\n"
          ],
          "name": "stdout"
        }
      ]
    },
    {
      "cell_type": "code",
      "metadata": {
        "id": "IUtWz4U4VPip",
        "colab_type": "code",
        "outputId": "509bc98d-6ef5-409f-8657-66dbf899f3e5",
        "colab": {
          "base_uri": "https://localhost:8080/",
          "height": 279
        }
      },
      "source": [
        "plt.scatter(x = heads_occu_count.keys(), y = head_probs)\n",
        "plt.xlabel('Number of heads out of 10 tosses')\n",
        "plt.ylabel('Probability')\n",
        "\n",
        "plt.show()"
      ],
      "execution_count": 0,
      "outputs": [
        {
          "output_type": "display_data",
          "data": {
            "image/png": "[encoded data removed]",
            "text/plain": [
              "<Figure size 432x288 with 1 Axes>"
            ]
          },
          "metadata": {
            "tags": [],
            "needs_background": "dark"
          }
        }
      ]
    },
    {
      "cell_type": "code",
      "metadata": {
        "id": "XP5TTYaEWRUF",
        "colab_type": "code",
        "outputId": "cb971fe1-f749-4f87-dfe6-b968b4bac9fa",
        "colab": {
          "base_uri": "https://localhost:8080/",
          "height": 34
        }
      },
      "source": [
        "samples = np.random.normal(loc=0, scale=1, size = 100000)\n",
        "\n",
        "\n",
        "type(samples)"
      ],
      "execution_count": 0,
      "outputs": [
        {
          "output_type": "execute_result",
          "data": {
            "text/plain": [
              "numpy.ndarray"
            ]
          },
          "metadata": {
            "tags": []
          },
          "execution_count": 12
        }
      ]
    },
    {
      "cell_type": "code",
      "metadata": {
        "id": "3QrmUAGQW8kO",
        "colab_type": "code",
        "outputId": "649d008e-9d52-4838-8502-e096a106bdfd",
        "colab": {
          "base_uri": "https://localhost:8080/",
          "height": 279
        }
      },
      "source": [
        "plt.hist(samples, bins = 1000, density = True, histtype = 'step')\n",
        "plt.xlabel('x')\n",
        "plt.ylabel('Probability')\n",
        "plt.show()"
      ],
      "execution_count": 0,
      "outputs": [
        {
          "output_type": "display_data",
          "data": {
            "image/png": "[encoded data removed]",
            "text/plain": [
              "<Figure size 432x288 with 1 Axes>"
            ]
          },
          "metadata": {
            "tags": [],
            "needs_background": "dark"
          }
        }
      ]
    },
    {
      "cell_type": "code",
      "metadata": {
        "id": "EYm479ueYghp",
        "colab_type": "code",
        "outputId": "e509b546-9034-4b58-84b3-53774fb7ba7d",
        "colab": {
          "base_uri": "https://localhost:8080/",
          "height": 269
        }
      },
      "source": [
        "samples_std1 = np.random.normal(0, 1, size=10000000)\n",
        "samples_std2 = np.random.normal(0, 2, size=10000000)\n",
        "samples_std3 = np.random.normal(0, 3, size=10000000)\n",
        "\n",
        "plt.hist(samples_std1, bins = 1000, density = True, histtype = 'step')\n",
        "plt.hist(samples_std2, bins = 1000, density = True, histtype = 'step')\n",
        "plt.hist(samples_std3, bins = 1000, density = True, histtype = 'step')\n",
        "\n",
        "plt.ylim(-0.01, 0.5)\n",
        "plt.xlim(-5, 5)\n",
        "plt.legend(('std = 1', 'std = 5', 'std = 10'))\n",
        "\n",
        "plt.show()"
      ],
      "execution_count": 0,
      "outputs": [
        {
          "output_type": "display_data",
          "data": {
            "image/png": "[encoded data removed]",
            "text/plain": [
              "<Figure size 432x288 with 1 Axes>"
            ]
          },
          "metadata": {
            "tags": [],
            "needs_background": "dark"
          }
        }
      ]
    },
    {
      "cell_type": "code",
      "metadata": {
        "id": "rT8oMHLXW_CN",
        "colab_type": "code",
        "outputId": "4617f4dd-c560-488f-ca78-6ac73b1251da",
        "colab": {
          "base_uri": "https://localhost:8080/",
          "height": 269
        }
      },
      "source": [
        "samples_std1 = (np.random.normal(0, 1, size=10000000))\n",
        "samples_std2 = np.random.normal(2, 1, size=10000000)\n",
        "samples_std3 = np.random.normal(4, 1, size=10000000)\n",
        "\n",
        "plt.hist(samples_std1, bins = 1000, density = True, histtype = 'step')\n",
        "plt.hist(samples_std2, bins = 1000, density = True, histtype = 'step')\n",
        "plt.hist(samples_std3, bins = 1000, density = True, histtype = 'step')\n",
        "\n",
        "plt.ylim(-0.01, 0.5)\n",
        "plt.xlim(-5,10)\n",
        "plt.legend(('std = 1', 'std = 5', 'std = 10'))\n",
        "\n",
        "plt.show()"
      ],
      "execution_count": 0,
      "outputs": [
        {
          "output_type": "display_data",
          "data": {
            "image/png": "[encoded data removed]",
            "text/plain": [
              "<Figure size 432x288 with 1 Axes>"
            ]
          },
          "metadata": {
            "tags": [],
            "needs_background": "dark"
          }
        }
      ]
    },
    {
      "cell_type": "code",
      "metadata": {
        "id": "dVY0iZH9Zs7Z",
        "colab_type": "code",
        "colab": {}
      },
      "source": [
        ""
      ],
      "execution_count": 0,
      "outputs": []
    }
  ]
}