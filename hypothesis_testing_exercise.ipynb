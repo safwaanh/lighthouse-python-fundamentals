{
  "nbformat": 4,
  "nbformat_minor": 0,
  "metadata": {
    "kernelspec": {
      "display_name": "Python 3",
      "language": "python",
      "name": "python3"
    },
    "language_info": {
      "codemirror_mode": {
        "name": "ipython",
        "version": 3
      },
      "file_extension": ".py",
      "mimetype": "text/x-python",
      "name": "python",
      "nbconvert_exporter": "python",
      "pygments_lexer": "ipython3",
      "version": "3.7.4"
    },
    "toc": {
      "base_numbering": 1,
      "nav_menu": {},
      "number_sections": true,
      "sideBar": true,
      "skip_h1_title": false,
      "title_cell": "Table of Contents",
      "title_sidebar": "Contents",
      "toc_cell": false,
      "toc_position": {},
      "toc_section_display": true,
      "toc_window_display": false
    },
    "varInspector": {
      "cols": {
        "lenName": 16,
        "lenType": 16,
        "lenVar": 40
      },
      "kernels_config": {
        "python": {
          "delete_cmd_postfix": "",
          "delete_cmd_prefix": "del ",
          "library": "var_list.py",
          "varRefreshCmd": "print(var_dic_list())"
        },
        "r": {
          "delete_cmd_postfix": ") ",
          "delete_cmd_prefix": "rm(",
          "library": "var_list.r",
          "varRefreshCmd": "cat(var_dic_list()) "
        }
      },
      "types_to_exclude": [
        "module",
        "function",
        "builtin_function_or_method",
        "instance",
        "_Feature"
      ],
      "window_display": false
    },
    "colab": {
      "name": "hypothesis_testing_exercise.ipynb",
      "provenance": [],
      "collapsed_sections": []
    }
  },
  "cells": [
    {
      "cell_type": "code",
      "metadata": {
        "ExecuteTime": {
          "end_time": "2020-02-05T17:56:58.505807Z",
          "start_time": "2020-02-05T17:56:58.495305Z"
        },
        "id": "HozpD7YUpHAc",
        "colab_type": "code",
        "colab": {}
      },
      "source": [
        "# import numpy\n",
        "import numpy as np"
      ],
      "execution_count": 0,
      "outputs": []
    },
    {
      "cell_type": "code",
      "metadata": {
        "ExecuteTime": {
          "end_time": "2020-05-06T13:53:20.525278Z",
          "start_time": "2020-05-06T13:53:20.518314Z"
        },
        "id": "qJWn_MMUpHAi",
        "colab_type": "code",
        "colab": {}
      },
      "source": [
        "# people weights \n",
        "weights = [94.93428306,  82.23471398, 97.95377076, 115.46059713, 80.31693251,  80.31726086, 116.58425631, \n",
        "           100.34869458,  75.61051228, 95.85120087, 75.73164614, 75.68540493, 89.83924543,  46.73439511,  \n",
        "           50.50164335,  73.75424942,  64.74337759,  91.28494665, 66.83951849, 56.75392597, 114.31297538, \n",
        "           80.48447399,  86.35056409,  56.50503628, 74.11234551,  66.1092259 ,  53.49006423,  68.75698018,\n",
        "           58.9936131 ,  62.0830625 ,  58.98293388,  83.52278185, 64.86502775,  54.42289071,  73.22544912,  \n",
        "           52.7915635 ,67.08863595,  45.40329876,  51.71813951,  66.96861236, 72.3846658 ,  66.71368281,  \n",
        "           63.84351718,  61.98896304, 50.2147801 ,  57.80155792,  60.39361229,  75.57122226, 68.4361829 , 47.36959845]"
      ],
      "execution_count": 0,
      "outputs": []
    },
    {
      "cell_type": "markdown",
      "metadata": {
        "id": "_lLoCnTBpHAo",
        "colab_type": "text"
      },
      "source": [
        "#### Set the significance level (alpha) to 0.05"
      ]
    },
    {
      "cell_type": "code",
      "metadata": {
        "ExecuteTime": {
          "end_time": "2020-02-05T17:56:58.931431Z",
          "start_time": "2020-02-05T17:56:58.926012Z"
        },
        "id": "iKcDXiugpHAp",
        "colab_type": "code",
        "colab": {}
      },
      "source": [
        "alpha = 0.05"
      ],
      "execution_count": 0,
      "outputs": []
    },
    {
      "cell_type": "code",
      "metadata": {
        "id": "E-dVjv46pHAt",
        "colab_type": "code",
        "colab": {}
      },
      "source": [
        ""
      ],
      "execution_count": 0,
      "outputs": []
    },
    {
      "cell_type": "code",
      "metadata": {
        "id": "F6FZj7kgpHAw",
        "colab_type": "code",
        "colab": {}
      },
      "source": [
        ""
      ],
      "execution_count": 0,
      "outputs": []
    },
    {
      "cell_type": "markdown",
      "metadata": {
        "id": "3_qGqLR_pHAz",
        "colab_type": "text"
      },
      "source": [
        "#### Create function `evaluate_test` which prints a conclusion of hypothesis test based on p-value and alpha\n",
        "\n",
        "PARAMS:\n",
        "- p (float) - p-value from test\n",
        "- alpha (float) - significance level\n"
      ]
    },
    {
      "cell_type": "code",
      "metadata": {
        "id": "0IWqYLZ3pHA0",
        "colab_type": "code",
        "colab": {}
      },
      "source": [
        "def evaluate_test(p, alpha):\n",
        "  \n",
        "  if p < alpha:\n",
        "    test_eval = 'Reject H0'\n",
        "\n",
        "  else:\n",
        "    test_eval = 'Fail to reject H0'\n",
        "\n",
        "  return test_eval"
      ],
      "execution_count": 0,
      "outputs": []
    },
    {
      "cell_type": "code",
      "metadata": {
        "id": "k41G7-Z2pHA3",
        "colab_type": "code",
        "colab": {}
      },
      "source": [
        ""
      ],
      "execution_count": 0,
      "outputs": []
    },
    {
      "cell_type": "markdown",
      "metadata": {
        "ExecuteTime": {
          "end_time": "2020-02-05T17:56:59.123535Z",
          "start_time": "2020-02-05T17:56:59.117117Z"
        },
        "id": "qF4OWVRdpHA6",
        "colab_type": "text"
      },
      "source": [
        "#### Import Shapiro-Wilk Test to test if weights are normally distributed\n",
        "\n",
        "- H0 = weights are normally distributed\n",
        "- HA = weights are not normally distributed\n",
        "- https://docs.scipy.org/doc/scipy/reference/generated/scipy.stats.shapiro.html"
      ]
    },
    {
      "cell_type": "code",
      "metadata": {
        "ExecuteTime": {
          "end_time": "2020-02-05T17:56:59.352890Z",
          "start_time": "2020-02-05T17:56:59.347623Z"
        },
        "id": "iluJsey7pHA7",
        "colab_type": "code",
        "colab": {}
      },
      "source": [
        "from scipy import stats"
      ],
      "execution_count": 0,
      "outputs": []
    },
    {
      "cell_type": "code",
      "metadata": {
        "id": "hc-M9Re0pHA-",
        "colab_type": "code",
        "colab": {}
      },
      "source": [
        "w, p = stats.shapiro(weights)"
      ],
      "execution_count": 0,
      "outputs": []
    },
    {
      "cell_type": "code",
      "metadata": {
        "id": "0c701Mh1pHBB",
        "colab_type": "code",
        "colab": {
          "base_uri": "https://localhost:8080/",
          "height": 34
        },
        "outputId": "2ae9c0a2-0fb4-43e1-f6f6-8dcda23f423c"
      },
      "source": [
        "print(w,p) ## w: test statistic, p: p-value"
      ],
      "execution_count": 19,
      "outputs": [
        {
          "output_type": "stream",
          "text": [
            "0.9404902458190918 0.014088480733335018\n"
          ],
          "name": "stdout"
        }
      ]
    },
    {
      "cell_type": "markdown",
      "metadata": {
        "id": "IKyws8onpHBG",
        "colab_type": "text"
      },
      "source": [
        "#### Use function `evaluate_test` to make conclusion if weights are normally distributed"
      ]
    },
    {
      "cell_type": "code",
      "metadata": {
        "ExecuteTime": {
          "end_time": "2020-02-05T17:56:59.578726Z",
          "start_time": "2020-02-05T17:56:59.574044Z"
        },
        "id": "0RKS1hB2pHBG",
        "colab_type": "code",
        "colab": {
          "base_uri": "https://localhost:8080/",
          "height": 34
        },
        "outputId": "7438f488-382b-4321-b7e1-188fe2b69b08"
      },
      "source": [
        "evaluate_test(p, alpha)"
      ],
      "execution_count": 20,
      "outputs": [
        {
          "output_type": "execute_result",
          "data": {
            "text/plain": [
              "'Reject H0'"
            ]
          },
          "metadata": {
            "tags": []
          },
          "execution_count": 20
        }
      ]
    },
    {
      "cell_type": "code",
      "metadata": {
        "id": "qY5B1PdupHBJ",
        "colab_type": "code",
        "colab": {}
      },
      "source": [
        ""
      ],
      "execution_count": 0,
      "outputs": []
    },
    {
      "cell_type": "code",
      "metadata": {
        "id": "7LCXYuj9pHBM",
        "colab_type": "code",
        "colab": {}
      },
      "source": [
        ""
      ],
      "execution_count": 0,
      "outputs": []
    },
    {
      "cell_type": "markdown",
      "metadata": {
        "ExecuteTime": {
          "end_time": "2020-05-06T13:57:49.903166Z",
          "start_time": "2020-05-06T13:57:49.897376Z"
        },
        "id": "JKIqBIglpHBO",
        "colab_type": "text"
      },
      "source": [
        "#### Test the hypothesis that mean of weights is equal to 72\n",
        "\n",
        "- use one sample t-test\n",
        "- H0: mean = 72\n",
        "- HA: mean != 72\n",
        "- note that we don't know the population standard deviation"
      ]
    },
    {
      "cell_type": "code",
      "metadata": {
        "ExecuteTime": {
          "end_time": "2020-02-05T17:56:59.840141Z",
          "start_time": "2020-02-05T17:56:59.795906Z"
        },
        "id": "eHkpQoSkpHBO",
        "colab_type": "code",
        "colab": {
          "base_uri": "https://localhost:8080/",
          "height": 34
        },
        "outputId": "7e267980-8d8a-4515-9ce2-54b646837770"
      },
      "source": [
        "from scipy.stats import ttest_1samp\n",
        "\n",
        "ttest, pval = ttest_1samp(weights,72)\n",
        "weights_mean = np.mean(weights)\n",
        "\n",
        "print(ttest,pval, weights_mean)"
      ],
      "execution_count": 28,
      "outputs": [
        {
          "output_type": "stream",
          "text": [
            "-0.02860345905486303 0.9772970361292941 71.9277206544\n"
          ],
          "name": "stdout"
        }
      ]
    },
    {
      "cell_type": "code",
      "metadata": {
        "id": "I7blmRnVpHBQ",
        "colab_type": "code",
        "colab": {}
      },
      "source": [
        ""
      ],
      "execution_count": 0,
      "outputs": []
    },
    {
      "cell_type": "code",
      "metadata": {
        "id": "8mH8kapdpHBT",
        "colab_type": "code",
        "colab": {}
      },
      "source": [
        ""
      ],
      "execution_count": 0,
      "outputs": []
    },
    {
      "cell_type": "markdown",
      "metadata": {
        "id": "BF9P2yI_pHBV",
        "colab_type": "text"
      },
      "source": [
        "#### Use function `evaluate_test` to make conclusion if the mean of the heights is 72"
      ]
    },
    {
      "cell_type": "code",
      "metadata": {
        "ExecuteTime": {
          "end_time": "2020-02-05T17:57:00.039102Z",
          "start_time": "2020-02-05T17:57:00.032521Z"
        },
        "id": "jjFter5QpHBV",
        "colab_type": "code",
        "colab": {
          "base_uri": "https://localhost:8080/",
          "height": 34
        },
        "outputId": "4815a95f-cba8-4693-e681-92adb89629f9"
      },
      "source": [
        "evaluate_test(pval, alpha)"
      ],
      "execution_count": 26,
      "outputs": [
        {
          "output_type": "execute_result",
          "data": {
            "text/plain": [
              "'Fail to reject H0'"
            ]
          },
          "metadata": {
            "tags": []
          },
          "execution_count": 26
        }
      ]
    },
    {
      "cell_type": "code",
      "metadata": {
        "id": "zM9xPSCppHBY",
        "colab_type": "code",
        "colab": {}
      },
      "source": [
        ""
      ],
      "execution_count": 0,
      "outputs": []
    },
    {
      "cell_type": "code",
      "metadata": {
        "id": "KTzWLyZJpHBb",
        "colab_type": "code",
        "colab": {}
      },
      "source": [
        ""
      ],
      "execution_count": 0,
      "outputs": []
    },
    {
      "cell_type": "code",
      "metadata": {
        "ExecuteTime": {
          "end_time": "2020-02-05T17:57:00.504635Z",
          "start_time": "2020-02-05T17:57:00.496029Z"
        },
        "id": "hb0L80pbpHBe",
        "colab_type": "code",
        "colab": {}
      },
      "source": [
        "# salaries in the first company\n",
        "salaries_company_A = [ 62779.75930907,  67487.49834604,  78998.91885801,  92801.06354333,\n",
        "        94917.76195759,  85409.43843246,  65536.36510309,  97608.88920408,\n",
        "        79613.1791369 ,  74035.25988438,  72698.71057961,  57170.2204782 ,\n",
        "        96496.56571672,  78123.01652012,  69617.56847376,  89109.14505065,\n",
        "        91809.98342107,  54010.91167324, 103259.7319888 , 113319.79557154,\n",
        "        81529.81385057,  83590.49251746, 115902.53443622,  63608.1666576 ,\n",
        "        72175.25765417,  88719.32305603,  97215.1090373 ,  80570.98830349,\n",
        "        67796.25874935,  99321.80738101]\n",
        "\n",
        "# salaries in the second company\n",
        "salaries_company_B = [ 89845.96793876,  90027.93042629, 108596.08141043, 120113.67952031,\n",
        "        94794.04532001,  99565.51332692, 110927.06162603,  85471.82457925,\n",
        "        79030.8553638 ,  82644.84718934,  71592.66608011,  68244.23637394,\n",
        "       134420.97566401,  72106.76757987,  95429.7573215 ,  88285.90615416,\n",
        "       110973.4078626 ,  92323.32822085, 117740.37152488,  87412.61048855,\n",
        "        94906.53993793, 105017.39597368,  93983.46012639, 100538.051311  ,\n",
        "        95673.65143504,  61727.33698247, 105311.27474286, 113551.6401474 ,\n",
        "        87408.82036567,  85895.00912077]"
      ],
      "execution_count": 0,
      "outputs": []
    },
    {
      "cell_type": "markdown",
      "metadata": {
        "id": "UFc-jDospHBg",
        "colab_type": "text"
      },
      "source": [
        "#### Test the hypothesis that mean of salaries in both companies are equal\n",
        "- use t-test\n",
        "- H0: salaries are the same\n",
        "- HA: salaries are not the same\n"
      ]
    },
    {
      "cell_type": "code",
      "metadata": {
        "ExecuteTime": {
          "end_time": "2020-02-05T17:57:00.718056Z",
          "start_time": "2020-02-05T17:57:00.709749Z"
        },
        "id": "c51IQThKpHBg",
        "colab_type": "code",
        "colab": {
          "base_uri": "https://localhost:8080/",
          "height": 34
        },
        "outputId": "2df62c3d-e36d-433a-eec5-350260d9b2ee"
      },
      "source": [
        "salaries_company_A = np.array(salaries_company_A)\n",
        "salaries_company_B = np.array(salaries_company_B)\n",
        "\n",
        "n_sal_A = len(salaries_company_A)\n",
        "n_sal_B = len(salaries_company_B)\n",
        "\n",
        "var_A = salaries_company_A.var(ddof=1)\n",
        "var_B = salaries_company_B.var(ddof = 1)\n",
        "\n",
        "std = np.sqrt((var_A + var_B)/2)\n",
        "\n",
        "print(std, n_sal_A, n_sal_B)"
      ],
      "execution_count": 42,
      "outputs": [
        {
          "output_type": "stream",
          "text": [
            "16063.186045963608 30 30\n"
          ],
          "name": "stdout"
        }
      ]
    },
    {
      "cell_type": "code",
      "metadata": {
        "id": "2bnbzplOpHBi",
        "colab_type": "code",
        "colab": {}
      },
      "source": [
        "t = (salaries_company_A.mean() - salaries_company_B.mean())/(std*np.sqrt(2/n_sal_A))"
      ],
      "execution_count": 0,
      "outputs": []
    },
    {
      "cell_type": "code",
      "metadata": {
        "id": "yB35deNOpHBk",
        "colab_type": "code",
        "colab": {}
      },
      "source": [
        "df = 2*n_sal_A - 2"
      ],
      "execution_count": 0,
      "outputs": []
    },
    {
      "cell_type": "code",
      "metadata": {
        "id": "I2qpnJtIzkNV",
        "colab_type": "code",
        "colab": {
          "base_uri": "https://localhost:8080/",
          "height": 34
        },
        "outputId": "1916a82a-3f3e-43b7-c307-347dc125edb0"
      },
      "source": [
        "p = 1 -  stats.t.cdf(t, df=df)\n",
        "print(p, t)"
      ],
      "execution_count": 57,
      "outputs": [
        {
          "output_type": "stream",
          "text": [
            "0.9977766283632212 -2.960239205553995\n"
          ],
          "name": "stdout"
        }
      ]
    },
    {
      "cell_type": "markdown",
      "metadata": {
        "id": "gEECq5x1pHBm",
        "colab_type": "text"
      },
      "source": [
        "#### Use function `evaluate_test` to make conclusion if the salaries are equal in both comapnies"
      ]
    },
    {
      "cell_type": "code",
      "metadata": {
        "id": "ety_FC8qpHBm",
        "colab_type": "code",
        "colab": {
          "base_uri": "https://localhost:8080/",
          "height": 34
        },
        "outputId": "c642f36f-07cb-4440-aa2d-9f3fa9fa0cde"
      },
      "source": [
        "evaluate_test(p, alpha)"
      ],
      "execution_count": 58,
      "outputs": [
        {
          "output_type": "execute_result",
          "data": {
            "text/plain": [
              "'Fail to reject H0'"
            ]
          },
          "metadata": {
            "tags": []
          },
          "execution_count": 58
        }
      ]
    },
    {
      "cell_type": "code",
      "metadata": {
        "id": "eTXUpOGSpHBo",
        "colab_type": "code",
        "colab": {}
      },
      "source": [
        "t2,p2 = stats.ttest_ind(salaries_company_A, salaries_company_B)"
      ],
      "execution_count": 0,
      "outputs": []
    },
    {
      "cell_type": "code",
      "metadata": {
        "id": "94hTM2pKpHBr",
        "colab_type": "code",
        "colab": {
          "base_uri": "https://localhost:8080/",
          "height": 34
        },
        "outputId": "e3821ecc-bb2c-499b-9df9-ad02fe671fe2"
      },
      "source": [
        "print(t2,p2)"
      ],
      "execution_count": 60,
      "outputs": [
        {
          "output_type": "stream",
          "text": [
            "-2.960239205553994 0.004446743273557563\n"
          ],
          "name": "stdout"
        }
      ]
    },
    {
      "cell_type": "code",
      "metadata": {
        "id": "rKYhyXfI0Xct",
        "colab_type": "code",
        "colab": {
          "base_uri": "https://localhost:8080/",
          "height": 34
        },
        "outputId": "564968ff-b390-4501-e98f-704b51362e94"
      },
      "source": [
        "print(\"p= \" + str(p2))"
      ],
      "execution_count": 61,
      "outputs": [
        {
          "output_type": "stream",
          "text": [
            "p= 0.004446743273557563\n"
          ],
          "name": "stdout"
        }
      ]
    },
    {
      "cell_type": "code",
      "metadata": {
        "id": "geMt0pfC0v-e",
        "colab_type": "code",
        "colab": {}
      },
      "source": [
        ""
      ],
      "execution_count": 0,
      "outputs": []
    }
  ]
}