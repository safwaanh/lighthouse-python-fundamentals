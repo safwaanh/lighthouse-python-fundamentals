{
  "nbformat": 4,
  "nbformat_minor": 0,
  "metadata": {
    "colab": {
      "name": "Katas.ipynb",
      "provenance": [],
      "collapsed_sections": [
        "P4syr_crA2Ei",
        "XQVasfK4Dkx2"
      ],
      "toc_visible": true,
      "authorship_tag": "ABX9TyMNkuCn0Tt9NiRm3beVhF2P",
      "include_colab_link": true
    },
    "kernelspec": {
      "name": "python3",
      "display_name": "Python 3"
    }
  },
  "cells": [
    {
      "cell_type": "markdown",
      "metadata": {
        "id": "view-in-github",
        "colab_type": "text"
      },
      "source": [
        "<a href=\"https://colab.research.google.com/github/safwaanh/lighthouse-python-fundamentals/blob/master/Katas.ipynb\" target=\"_parent\"><img src=\"https://colab.research.google.com/assets/colab-badge.svg\" alt=\"Open In Colab\"/></a>"
      ]
    },
    {
      "cell_type": "markdown",
      "metadata": {
        "id": "wxzVpBCyA8hD",
        "colab_type": "text"
      },
      "source": [
        "# Kata 1"
      ]
    },
    {
      "cell_type": "markdown",
      "metadata": {
        "id": "TZ_-S-4RPtsG",
        "colab_type": "text"
      },
      "source": [
        "Kata 1 Exercise - Create a function named sumLargestNumbers that will receive a list of numbers and return the sum of the two largest numbers in that array."
      ]
    },
    {
      "cell_type": "code",
      "metadata": {
        "id": "CocCsb2TPtGR",
        "colab_type": "code",
        "colab": {}
      },
      "source": [
        "def sumLargestNumbers(num_list):\n",
        " \n",
        "  sorted_numbers = []\n",
        "\n",
        "  while num_list: \n",
        "    maximum = num_list[0] \n",
        "    for i in num_list:\n",
        "      if i  > maximum: \n",
        "        maximum = i\n",
        "    sorted_numbers.append(maximum)\n",
        "    num_list.remove(maximum)\n",
        "  \n",
        "  sumLargest = sorted_numbers[0] + sorted_numbers[1]\n",
        "\n",
        "  return sumLargest"
      ],
      "execution_count": 0,
      "outputs": []
    },
    {
      "cell_type": "markdown",
      "metadata": {
        "id": "2MozxEMXBApv",
        "colab_type": "text"
      },
      "source": [
        "# Kata 2"
      ]
    },
    {
      "cell_type": "markdown",
      "metadata": {
        "id": "sUdcKfunJ3Bu",
        "colab_type": "text"
      },
      "source": [
        "\n",
        "Kata 2 Exercise - Create a function named conditionalSum that will be given a list of numbers and a condition, in this case odd or even. Given this condition, add up only the values which match that condition. If no values match the condition, return 0.\n",
        "\n",
        "\n"
      ]
    },
    {
      "cell_type": "code",
      "metadata": {
        "id": "vnbDzyGOKQx6",
        "colab_type": "code",
        "colab": {}
      },
      "source": [
        "def conditionalSum(num_list, condition):\n",
        "\n",
        "  i_condition = str(condition.lower()) ## Just to make sure typos or case-sensitivities are eliminated\n",
        "\n",
        "  sum = 0\n",
        "\n",
        "  if i_condition == 'even':\n",
        "    for i in num_list:\n",
        "      if i % 2 == 0:\n",
        "        sum +=i\n",
        "\n",
        "  elif i_condition == 'odd':\n",
        "    for i in num_list:m\n",
        "      if i % 2 != 0:\n",
        "        sum += i\n",
        "\n",
        "  return sum"
      ],
      "execution_count": 0,
      "outputs": []
    },
    {
      "cell_type": "code",
      "metadata": {
        "id": "e_-seMB5M3v2",
        "colab_type": "code",
        "outputId": "36638731-89d3-46ab-c607-cba6816b4205",
        "colab": {
          "base_uri": "https://localhost:8080/",
          "height": 33
        }
      },
      "source": [
        "conditionalSum([2,3,41,5,12,4], 'even')"
      ],
      "execution_count": 0,
      "outputs": [
        {
          "output_type": "execute_result",
          "data": {
            "text/plain": [
              "18"
            ]
          },
          "metadata": {
            "tags": []
          },
          "execution_count": 63
        }
      ]
    },
    {
      "cell_type": "markdown",
      "metadata": {
        "id": "4ML8FnwEBFZX",
        "colab_type": "text"
      },
      "source": [
        "# Kata 3"
      ]
    },
    {
      "cell_type": "markdown",
      "metadata": {
        "id": "OWLBCJEhRBF0",
        "colab_type": "text"
      },
      "source": [
        "Kata 3 - Create a function named numberOfVowels that will receive a string and return the number of vowels in that string."
      ]
    },
    {
      "cell_type": "code",
      "metadata": {
        "id": "-_AVuE0WWRQM",
        "colab_type": "code",
        "colab": {}
      },
      "source": [
        "def numberOfVowels(input_string):\n",
        "  sumVowels = 0\n",
        "  for i in input_string:\n",
        "    if i == 'a':\n",
        "      sumVowels += 1\n",
        "    elif i == 'e':\n",
        "      sumVowels +=1\n",
        "    elif i == 'i':\n",
        "      sumVowels += 1\n",
        "    elif i == 'o':\n",
        "      sumVowels += 1\n",
        "    elif i == 'u':\n",
        "      sumVowels += 1\n",
        "    else:\n",
        "      continue\n",
        "  \n",
        "  return sumVowels"
      ],
      "execution_count": 0,
      "outputs": []
    },
    {
      "cell_type": "code",
      "metadata": {
        "id": "5lxm-4oPXo-l",
        "colab_type": "code",
        "outputId": "29ad7fea-5804-47c3-8422-2ed8ae32f219",
        "colab": {
          "base_uri": "https://localhost:8080/",
          "height": 33
        }
      },
      "source": [
        "numberOfVowels('Safwaan')"
      ],
      "execution_count": 0,
      "outputs": [
        {
          "output_type": "execute_result",
          "data": {
            "text/plain": [
              "3"
            ]
          },
          "metadata": {
            "tags": []
          },
          "execution_count": 67
        }
      ]
    },
    {
      "cell_type": "code",
      "metadata": {
        "id": "6sao4O-XZC66",
        "colab_type": "code",
        "colab": {}
      },
      "source": [
        "def numberOfVowels(input_string):\n",
        "  \n",
        "  sumVowels = 0\n",
        "  vowels = ['a','e', 'i', 'o', 'u']\n",
        "\n",
        "  for i in input_string:\n",
        "    if i in vowels:\n",
        "      sumVowels += 1\n",
        "    else:\n",
        "      continue\n",
        "  \n",
        "  return sumVowels"
      ],
      "execution_count": 0,
      "outputs": []
    },
    {
      "cell_type": "code",
      "metadata": {
        "id": "Ei276zLfZbp6",
        "colab_type": "code",
        "outputId": "11ebf3c9-70e7-4ef2-c79d-61c44756004a",
        "colab": {
          "base_uri": "https://localhost:8080/",
          "height": 33
        }
      },
      "source": [
        "numberOfVowels('Lighthouse Labs')"
      ],
      "execution_count": 0,
      "outputs": [
        {
          "output_type": "execute_result",
          "data": {
            "text/plain": [
              "5"
            ]
          },
          "metadata": {
            "tags": []
          },
          "execution_count": 69
        }
      ]
    },
    {
      "cell_type": "markdown",
      "metadata": {
        "id": "P4syr_crA2Ei",
        "colab_type": "text"
      },
      "source": [
        "# Kata 4"
      ]
    },
    {
      "cell_type": "markdown",
      "metadata": {
        "id": "9dlCQX8rav--",
        "colab_type": "text"
      },
      "source": [
        "\n",
        "Kata 4 - Create a function named instructorWithLongestName that will receive a list of instructor dictionaries, and return the object that has the longest name. If there are two instructors with the longest name, return the first one."
      ]
    },
    {
      "cell_type": "code",
      "metadata": {
        "id": "-RCOwmSLbEE_",
        "colab_type": "code",
        "colab": {}
      },
      "source": [
        "[\n",
        "  {name: \"Samuel\", course: \"iOS\"},\n",
        "  {name: \"Jeremiah\", course: \"Data\"},\n",
        "  {name: \"Ophilia\", course: \"Web\"},\n",
        "  {name: \"Donald\", course: \"Web\"}\n",
        "]"
      ],
      "execution_count": 0,
      "outputs": []
    },
    {
      "cell_type": "code",
      "metadata": {
        "id": "hkm5-70vbN6R",
        "colab_type": "code",
        "colab": {}
      },
      "source": [
        "dict1 = [\n",
        "  {\"name\": \"Job\", \"course\": \"iOS\"},\n",
        "  {\"name\": \"Jeremiah\", \"course\": \"Data\"},\n",
        "  {\"name\": \"Ophilia\", \"course\": \"Web\"},\n",
        "  {\"name\": \"Donald\", \"course\": \"Web\"}\n",
        "]"
      ],
      "execution_count": 0,
      "outputs": []
    },
    {
      "cell_type": "code",
      "metadata": {
        "id": "SXw20NdRtMWw",
        "colab_type": "code",
        "colab": {}
      },
      "source": [
        "def longestName(inst_list):\n",
        "    \n",
        "    val_catch = list(inst_list[0].values())\n",
        "    longest_name = val_catch[0]\n",
        "    longest_name_index = 0\n",
        "\n",
        "    for i  in range(len(inst_list)):\n",
        "        name_finder = list(inst_list[i].values())\n",
        "        name_catcher = name_finder[0]\n",
        "        if len(name_catcher) > len(longest_name):\n",
        "            longest_name = name_catcher\n",
        "            longest_name_index = i\n",
        "\n",
        "    return inst_list[longest_name_index]\n"
      ],
      "execution_count": 0,
      "outputs": []
    },
    {
      "cell_type": "code",
      "metadata": {
        "id": "_8HyOhvRtxFz",
        "colab_type": "code",
        "outputId": "c25e5d1c-264e-4163-9145-d18fdba54f84",
        "colab": {
          "base_uri": "https://localhost:8080/",
          "height": 33
        }
      },
      "source": [
        "longestName(dict1)"
      ],
      "execution_count": 0,
      "outputs": [
        {
          "output_type": "execute_result",
          "data": {
            "text/plain": [
              "{'course': 'Data', 'name': 'Jeremiah'}"
            ]
          },
          "metadata": {
            "tags": []
          },
          "execution_count": 99
        }
      ]
    },
    {
      "cell_type": "markdown",
      "metadata": {
        "id": "2c6dXyL3BNb5",
        "colab_type": "text"
      },
      "source": [
        "# Kata 5"
      ]
    },
    {
      "cell_type": "markdown",
      "metadata": {
        "id": "R5vmyivbBYQw",
        "colab_type": "text"
      },
      "source": [
        "Create a function named urlEncode that will receive a string of words, and return that string with all of the whitespace characters converted to %20. If there is whitespace on the outside of the string, like in our second example above, you should only replace the whitespace within the string."
      ]
    },
    {
      "cell_type": "code",
      "metadata": {
        "id": "7qCuaaGcBZ7H",
        "colab_type": "code",
        "colab": {}
      },
      "source": [
        "text1 = 'SAFWAAN'\n",
        "textIndex = list(range(len(text1)))\n",
        "\n",
        "list_text1 = list(text1)\n",
        "\n",
        "print(list_text1)"
      ],
      "execution_count": 0,
      "outputs": []
    },
    {
      "cell_type": "code",
      "metadata": {
        "id": "pQvn-LspCDur",
        "colab_type": "code",
        "colab": {}
      },
      "source": [
        "text1 = ' saf waan'\n",
        "textIndex = list(range(len(text1)))\n",
        "\n",
        "list_text1 = list(text1)\n",
        "\n",
        "for i in textIndex:\n",
        "  if list_text1[i] == ' ':\n",
        "    if i == 0:\n",
        "      continue\n",
        "    elif i == textIndex[-1]:\n",
        "      continue\n",
        "    else:\n",
        "      list_text1[i] = '%20'\n",
        "\n",
        "list_text1.remove(' ')\n",
        "\n",
        "output = ''.join(list_text1)\n",
        "\n",
        "print(output)\n",
        "\n",
        "print(len(output))\n",
        "\n",
        "print(list(output))"
      ],
      "execution_count": 0,
      "outputs": []
    },
    {
      "cell_type": "code",
      "metadata": {
        "id": "jesDZXDHJ5z9",
        "colab_type": "code",
        "colab": {}
      },
      "source": [
        "def urlEncode(text):\n",
        "  list_text = list(text)\n",
        "  text_index = list(range(len(text)))\n",
        "\n",
        "  for i in text_index:\n",
        "    if list_text[i] == ' ':\n",
        "      if i == 0:\n",
        "        continue\n",
        "      elif i == text_index[-1]:\n",
        "        continue\n",
        "      else:\n",
        "        list_text[i] = '%20'\n",
        "  \n",
        "  if list_text.count(' ') > 0:\n",
        "    list_text.remove(' ')\n",
        "  \n",
        "  if list_text[len(list_text) - 1] == ' ':\n",
        "    del list_text[len(list_text)-1]\n",
        "\n",
        "  URL = ''.join(list_text)\n",
        "  \n",
        "  return URL"
      ],
      "execution_count": 0,
      "outputs": []
    },
    {
      "cell_type": "code",
      "metadata": {
        "id": "YDcsvmJxMqch",
        "colab_type": "code",
        "colab": {}
      },
      "source": [
        "print(urlEncode(\"blue is greener than purple for sure\"))"
      ],
      "execution_count": 0,
      "outputs": []
    },
    {
      "cell_type": "markdown",
      "metadata": {
        "id": "MqNSynXspExa",
        "colab_type": "text"
      },
      "source": [
        "# Kata 6"
      ]
    },
    {
      "cell_type": "code",
      "metadata": {
        "id": "Ql49e0HypHDf",
        "colab_type": "code",
        "colab": {}
      },
      "source": [
        "parkade_1 = [ ['s', 's', 's', 'S', 'R', 'M'],\n",
        "              ['s', 'M', 's', 'S', 'r', 'M'],\n",
        "              ['s', 'M', 's', 'S', 'r', 'm'], \n",
        "              ['S', 'r', 's', 'm', 'r', 'M'], \n",
        "              ['S', 'r', 's', 'm', 'r', 'M'], \n",
        "              ['S', 'r', 'S', 'M', 'M', 'S']  \n",
        "             ]   "
      ],
      "execution_count": 0,
      "outputs": []
    },
    {
      "cell_type": "code",
      "metadata": {
        "id": "v3v-WF4zpwsy",
        "colab_type": "code",
        "colab": {}
      },
      "source": [
        "## We're going to need two iterators. One that loops through each row and another that checks each column of every row\n",
        "\n",
        "num_rows = len(spots)\n",
        "print(num_rows)\n",
        "\n",
        "row_index = list(range(num_rows))  ## Row index\n",
        "\n",
        "print(list(range(num_rows)))\n",
        "\n",
        "num_cols = len(spots[0]) ## Creating a col index in case parkade isnt square\n",
        "\n",
        "col_index = list(range(num_cols)) ## Col Index\n",
        "\n",
        "print(list(range(num_cols)))"
      ],
      "execution_count": 0,
      "outputs": []
    },
    {
      "cell_type": "code",
      "metadata": {
        "id": "L-41n2pAqOWA",
        "colab_type": "code",
        "colab": {}
      },
      "source": [
        "## for j in row_index:\n",
        "  ## for i in col_index:\n",
        "   ## print(parkade_1[j][i]) ## This proves this loop can access individual values within the parkade list"
      ],
      "execution_count": 0,
      "outputs": []
    },
    {
      "cell_type": "code",
      "metadata": {
        "id": "OADE-riYqq6E",
        "colab_type": "code",
        "colab": {}
      },
      "source": [
        "vehicle_type = 'small'\n",
        "\n",
        "vehicle_type = vehicle_type.lower() ## Correction for any errors in input\n",
        "\n",
        "available_spot = []\n",
        "\n",
        "if vehicle_type == 'regular':\n",
        "  for j in row_index:\n",
        "    for i in col_index:\n",
        "      if parkade_1[j][i] == 'R':\n",
        "        available_spot.append([i,j])\n",
        "      else:\n",
        "        False\n",
        "\n",
        "if 'motorcycle' in vehicle_type: ## In case the plural is input\n",
        "  for j in row_index:\n",
        "    for i in col_index:\n",
        "      if (parkade_1[j][i] == 'R' or parkade_1[j][i] == 'S' or parkade_1[j][i] == 'M'):\n",
        "        available_spot.append([i,j])\n",
        "      else:\n",
        "        False\n",
        "\n",
        "if vehicle_type == 'small':\n",
        "  for j in row_index:\n",
        "    for i in col_index:\n",
        "      if (parkade_1[j][i] == 'R' or parkade_1[j][i] == 'S'):\n",
        "        available_spot.append([i,j])\n",
        "      else:\n",
        "        False\n",
        " \n",
        "available_spot"
      ],
      "execution_count": 0,
      "outputs": []
    },
    {
      "cell_type": "code",
      "metadata": {
        "id": "Py4girHTtOwz",
        "colab_type": "code",
        "colab": {}
      },
      "source": [
        "def whereCanIPark(spots, vehicle):\n",
        "\n",
        "  num_rows = len(spots)\n",
        "  row_index = list(range(num_rows))\n",
        "\n",
        "  num_cols = len(spots[0]) ## Creating a col index in case parkade isnt square\n",
        "  col_index = list(range(num_cols)) ## Col Index\n",
        "\n",
        "  vehicle = vehicle.lower() ## Correction for any errors in input\n",
        "\n",
        "  available_spots = [] ## Empty list where we all add available spots\n",
        "\n",
        "  if vehicle == 'regular':\n",
        "    for j in row_index:\n",
        "      for i in col_index:\n",
        "        if spots[j][i] == 'R':\n",
        "          available_spots.append([i,j])\n",
        "        else:\n",
        "          False\n",
        "\n",
        "  if 'motorcycle' in vehicle: ## In case the plural is input\n",
        "    for j in row_index:\n",
        "      for i in col_index:\n",
        "        if (spots[j][i] == 'R' or spots[j][i] == 'S' or spots[j][i] == 'M'):\n",
        "          available_spots = [i,j]\n",
        "        else:\n",
        "          False\n",
        "\n",
        "  if vehicle == 'small':\n",
        "    for j in row_index:\n",
        "      for i in col_index:\n",
        "        if (spots[j][i] == 'R' or spots[j][i] == 'S'):\n",
        "          available_spots = [i,j]\n",
        "        else:\n",
        "          False\n",
        "\n",
        "  return available_spots"
      ],
      "execution_count": 0,
      "outputs": []
    },
    {
      "cell_type": "code",
      "metadata": {
        "id": "wS3pm-cexlof",
        "colab_type": "code",
        "colab": {}
      },
      "source": [
        "print(whereCanIPark(\n",
        "  [\n",
        "    ['s', 's', 's', 'R', 's', 's'],\n",
        "    ['s', 'm', 's', 'S', 'r', 's'],\n",
        "    ['s', 'm', 's', 'S', 'r', 's'],\n",
        "    ['S', 'r', 's', 'm', 'r', 's'],\n",
        "    ['S', 'r', 's', 'm', 'R', 's'],\n",
        "    ['S', 'r', 'S', 'M', 'm', 'S']\n",
        "  ],\n",
        "  'motorcycle'\n",
        "))"
      ],
      "execution_count": 0,
      "outputs": []
    },
    {
      "cell_type": "markdown",
      "metadata": {
        "id": "onrImZiC0_Gc",
        "colab_type": "text"
      },
      "source": [
        "# Kata 7"
      ]
    },
    {
      "cell_type": "markdown",
      "metadata": {
        "id": "moZFMHs74jyu",
        "colab_type": "text"
      },
      "source": [
        "For this challenge, we will implement a function called checkAir(), which will check a collection of air samples. The function will take in two arguments. The first argument is a list of strings, where each string represents a small air sample that is either clean or dirty. The second argument is a number representing the highest acceptable amount of dirty samples. For example, a threshold of 0.4 means that there must be less than 40% of total samples classified as dirty for our air to be considered clean. Our function must return Polluted if there are too many dirty air samples, or Clean if the proportion of dirty samples is below the threshold."
      ]
    },
    {
      "cell_type": "code",
      "metadata": {
        "id": "feWkIs8P1A7T",
        "colab_type": "code",
        "colab": {}
      },
      "source": [
        "samples = ['clean', 'clean', 'dirty', 'clean', 'dirty', 'clean', 'clean', 'dirty', 'clean', 'dirty']\n",
        "\n",
        "k = 0\n",
        "j = len(samples)\n",
        "\n",
        "threshold = 0.3\n",
        "\n",
        "for i in samples:\n",
        "    if i == 'dirty':\n",
        "      k += 1\n",
        "# j += 1\n",
        "conc = k/j\n",
        "\n",
        "if conc > threshold:\n",
        "    print(\"Polluted\")\n",
        "else:\n",
        "    print(\"Clean\")\n",
        "\n",
        "print(k, j)"
      ],
      "execution_count": 0,
      "outputs": []
    },
    {
      "cell_type": "code",
      "metadata": {
        "id": "JJH3lk5T4q1i",
        "colab_type": "code",
        "colab": {}
      },
      "source": [
        "def checkAir(samples, threshold):\n",
        "  \n",
        "  k = 0\n",
        "  j = len(samples)\n",
        "\n",
        "  for i in samples:\n",
        "    if i == 'dirty':\n",
        "      k += 1\n",
        "    \n",
        "\n",
        "  conc = k/j\n",
        "\n",
        "  if conc > threshold:\n",
        "    status = \"Polluted\"\n",
        "  else:\n",
        "    status = \"Clean\"\n",
        "\n",
        "  return status, k, j\n"
      ],
      "execution_count": 0,
      "outputs": []
    },
    {
      "cell_type": "code",
      "metadata": {
        "id": "bY-fx1-66Afx",
        "colab_type": "code",
        "colab": {}
      },
      "source": [
        "checkAir(\n",
        "  ['clean', 'clean', 'dirty', 'clean', 'dirty', 'clean', 'clean', 'dirty', 'clean', 'dirty'],\n",
        "  0.3\n",
        ")\n",
        "\n"
      ],
      "execution_count": 0,
      "outputs": []
    },
    {
      "cell_type": "code",
      "metadata": {
        "id": "BZiXX5YG6DIN",
        "colab_type": "code",
        "colab": {}
      },
      "source": [
        "print(checkAir(\n",
        "  ['clean', 'dirty', 'clean', 'dirty', 'clean', 'dirty', 'clean'],\n",
        "  0.9\n",
        "))\n"
      ],
      "execution_count": 0,
      "outputs": []
    },
    {
      "cell_type": "code",
      "metadata": {
        "id": "uL1i2iTp6J4m",
        "colab_type": "code",
        "colab": {}
      },
      "source": [
        ""
      ],
      "execution_count": 0,
      "outputs": []
    },
    {
      "cell_type": "markdown",
      "metadata": {
        "id": "RIw8cajw7oqG",
        "colab_type": "text"
      },
      "source": [
        "# Kata 8"
      ]
    },
    {
      "cell_type": "markdown",
      "metadata": {
        "id": "3E-Lb5Rv7r6A",
        "colab_type": "text"
      },
      "source": [
        "Create a function named repeatNumbers that will return a string with each of the given values repeated the appropriate number of times. If there are multiple sets of values each set should be separated by a comma. If there is only one set of values then you should omit the comma."
      ]
    },
    {
      "cell_type": "code",
      "metadata": {
        "id": "whoOGDEM7qSI",
        "colab_type": "code",
        "colab": {}
      },
      "source": [
        "example = [[1, 2], [2, 3], [3,4]] ## fist is the value to repeat, second is the number of times it is repeated\n",
        "\n",
        "## We will first need an iterator that accesses each of the nested lists\n",
        "\n",
        "nest_index = list(range(len(example)))\n",
        "print(nest_index)"
      ],
      "execution_count": 0,
      "outputs": []
    },
    {
      "cell_type": "code",
      "metadata": {
        "id": "lXdsXK9l8Grs",
        "colab_type": "code",
        "colab": {}
      },
      "source": [
        "## Within each nested list, we need to access the first and second values. We can probably use the same iterator + 1\n",
        "## However, we know for sure that each sub-list has two values\n",
        "\n",
        "t = []\n",
        "\n",
        "for i in nest_index:\n",
        "  f_value = str(example[i][0])\n",
        "  s_value = example[i][1]\n",
        "  output = (f_value * s_value)\n",
        "  t.append(output)\n",
        "\n",
        "print(t)"
      ],
      "execution_count": 0,
      "outputs": []
    },
    {
      "cell_type": "code",
      "metadata": {
        "id": "2LV3EDp-86pq",
        "colab_type": "code",
        "colab": {}
      },
      "source": [
        "x1 = ', '.join(t)"
      ],
      "execution_count": 0,
      "outputs": []
    },
    {
      "cell_type": "code",
      "metadata": {
        "id": "TqJv7ZD09aLz",
        "colab_type": "code",
        "colab": {}
      },
      "source": [
        "print(x1)"
      ],
      "execution_count": 0,
      "outputs": []
    },
    {
      "cell_type": "code",
      "metadata": {
        "id": "xtfni2dbA1ie",
        "colab_type": "code",
        "colab": {}
      },
      "source": [
        "def repeatNumbers(data):\n",
        "  \n",
        "  nest_index = list(range(len(data)))\n",
        "  \n",
        "  values_to_print = []\n",
        "\n",
        "  for i in nest_index:\n",
        "    f_value = str(data[i][0])\n",
        "    s_value = data[i][1]\n",
        "    loop_output = (f_value * s_value)\n",
        "    values_to_print.append(loop_output)\n",
        "  \n",
        "  output = ', '.join(values_to_print)\n",
        "\n",
        "  return output"
      ],
      "execution_count": 0,
      "outputs": []
    },
    {
      "cell_type": "code",
      "metadata": {
        "id": "iZ9YizlQCDZV",
        "colab_type": "code",
        "colab": {}
      },
      "source": [
        "print(repeatNumbers([[10, 4], [34, 6], [92, 2]]))\n"
      ],
      "execution_count": 0,
      "outputs": []
    },
    {
      "cell_type": "code",
      "metadata": {
        "id": "j2OcBvVpCYnN",
        "colab_type": "code",
        "colab": {}
      },
      "source": [
        ""
      ],
      "execution_count": 0,
      "outputs": []
    },
    {
      "cell_type": "markdown",
      "metadata": {
        "id": "XQVasfK4Dkx2",
        "colab_type": "text"
      },
      "source": [
        "# Kata 9"
      ]
    },
    {
      "cell_type": "markdown",
      "metadata": {
        "id": "CXLXNoxZDo2h",
        "colab_type": "text"
      },
      "source": [
        "Create a function named camelCase that will convert a string to a camel case, and return the result.\n",
        "\n"
      ]
    },
    {
      "cell_type": "code",
      "metadata": {
        "id": "pE0WjNBsDmY6",
        "colab_type": "code",
        "colab": {}
      },
      "source": [
        "def camelCase(input):\n",
        "\n",
        "  input_string_list = list(input)\n",
        "\n",
        "  i_index = list(range(len(input_string_list)-1))\n",
        "\n",
        "  for i in i_index:\n",
        "    if input_string_list[i] == ' ':\n",
        "        input_string_list[i+1] = input_string_list[i+1].upper()\n",
        "\n",
        "  for i in input_string_list:\n",
        "    if i == ' ':\n",
        "      input_string_list.remove(i)\n",
        "\n",
        "  camelCaseInput = ''.join(input_string_list)\n",
        "\n",
        "  return camelCaseInput\n"
      ],
      "execution_count": 0,
      "outputs": []
    },
    {
      "cell_type": "code",
      "metadata": {
        "id": "bpK9Q3jmEBlX",
        "colab_type": "code",
        "colab": {}
      },
      "source": [
        "print(camelCase(\"brother brother brother     \"))"
      ],
      "execution_count": 0,
      "outputs": []
    },
    {
      "cell_type": "code",
      "metadata": {
        "id": "aFsVu00kFaJV",
        "colab_type": "code",
        "colab": {}
      },
      "source": [
        "print(camelCase(\"loopy lighthouse\"))"
      ],
      "execution_count": 0,
      "outputs": []
    },
    {
      "cell_type": "code",
      "metadata": {
        "id": "_1Xgbtj0Fbuc",
        "colab_type": "code",
        "colab": {}
      },
      "source": [
        "print(camelCase(\"supercalifragalisticexpialidocious\"))"
      ],
      "execution_count": 0,
      "outputs": []
    },
    {
      "cell_type": "code",
      "metadata": {
        "id": "xeIv2C4nFdv-",
        "colab_type": "code",
        "colab": {}
      },
      "source": [
        ""
      ],
      "execution_count": 0,
      "outputs": []
    },
    {
      "cell_type": "markdown",
      "metadata": {
        "id": "Idy316mRGVpq",
        "colab_type": "text"
      },
      "source": [
        "# Kata 10"
      ]
    },
    {
      "cell_type": "markdown",
      "metadata": {
        "id": "qunRPAt2Gcgo",
        "colab_type": "text"
      },
      "source": [
        "Create a function named multiplicationTable that receives a number maxValue as input and creates a square multiplication table where maxValue is the largest value in the table."
      ]
    },
    {
      "cell_type": "code",
      "metadata": {
        "id": "tYj8glPmHFFY",
        "colab_type": "code",
        "colab": {}
      },
      "source": [
        "maxValue = 5\n",
        "\n",
        "i_index = list(range(1, maxValue + 1))\n",
        "\n",
        "print(i_index)"
      ],
      "execution_count": 0,
      "outputs": []
    },
    {
      "cell_type": "code",
      "metadata": {
        "id": "DoajwBGUQrci",
        "colab_type": "code",
        "colab": {}
      },
      "source": [
        "def multiplicationTable(maxValue):\n",
        "    \n",
        "    \n",
        "    i_index = list(range(1, maxValue + 1))\n",
        "    \n",
        "\n",
        "    for i in i_index:\n",
        "        interim_list = []\n",
        "        for j in i_index:\n",
        "            mult = i * j\n",
        "            mult_str = str(mult)\n",
        "            interim_list.append(mult_str)\n",
        "            if j == maxValue:\n",
        "                final_output = ' '.join(interim_list)\n",
        "                print(final_output)\n",
        "    \n",
        "    return \n"
      ],
      "execution_count": 0,
      "outputs": []
    },
    {
      "cell_type": "code",
      "metadata": {
        "id": "btaW-0p2WdBu",
        "colab_type": "code",
        "colab": {}
      },
      "source": [
        "multiplicationTable(5)"
      ],
      "execution_count": 0,
      "outputs": []
    },
    {
      "cell_type": "code",
      "metadata": {
        "id": "0AsxUMn4WQDD",
        "colab_type": "code",
        "colab": {}
      },
      "source": [
        ""
      ],
      "execution_count": 0,
      "outputs": []
    }
  ]
}